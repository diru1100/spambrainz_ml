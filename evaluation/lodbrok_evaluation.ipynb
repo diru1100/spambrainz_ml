{
 "cells": [
  {
   "cell_type": "markdown",
   "metadata": {},
   "source": [
    "## Evaluation on different datasets"
   ]
  },
  {
   "cell_type": "code",
   "execution_count": 1,
   "metadata": {},
   "outputs": [
    {
     "name": "stderr",
     "output_type": "stream",
     "text": [
      "Using TensorFlow backend.\n"
     ]
    }
   ],
   "source": [
    "import sys\n",
    "sys.path.append(\"..\")\n",
    "\n",
    "import keras\n",
    "from utils.evaluation import evaluate, print_stats"
   ]
  },
  {
   "cell_type": "markdown",
   "metadata": {},
   "source": [
    "### Accuracy on evaluation dataset\n",
    "500 spam non-spam entries each which the model has never seen before."
   ]
  },
  {
   "cell_type": "code",
   "execution_count": 2,
   "metadata": {},
   "outputs": [
    {
     "name": "stdout",
     "output_type": "stream",
     "text": [
      "Accuracy: 1.000, T1 error: 0.000, T2 error: 0.000\n",
      "\n",
      "Confidence: Avg. 0.998, Min. 0.662, Max. 1.000, Standard dev. 0.017\n"
     ]
    }
   ],
   "source": [
    "eval = evaluate(\"snapshots/lodbrok-2018-08-08T17:10:00.403928.h5py\", \"../SENSITIVE/spambrainz_dataset_eval.pickle\")\n",
    "print_stats(eval)"
   ]
  },
  {
   "cell_type": "markdown",
   "metadata": {},
   "source": [
    "### Accuracy on entire spam dataset\n",
    "About 150.000 spam editors, 5.000 of which the model has been trained on."
   ]
  },
  {
   "cell_type": "code",
   "execution_count": 3,
   "metadata": {},
   "outputs": [
    {
     "name": "stdout",
     "output_type": "stream",
     "text": [
      "Accuracy: 0.999, T1 error: 0.000, T2 error: 0.001\n",
      "\n",
      "Confidence: Avg. 0.997, Min. 0.000, Max. 1.000, Standard dev. 0.034\n"
     ]
    }
   ],
   "source": [
    "spam = evaluate(\"snapshots/lodbrok-2018-08-08T17:10:00.403928.h5py\", \"../SENSITIVE/spambrainz_dataset_spam.pickle\")\n",
    "print_stats(spam)"
   ]
  },
  {
   "cell_type": "markdown",
   "metadata": {},
   "source": [
    "### Accuracy on entire non-spam dataset\n",
    "Around 8.000 editors, 5.000 of which the model has been trained on."
   ]
  },
  {
   "cell_type": "code",
   "execution_count": 4,
   "metadata": {},
   "outputs": [
    {
     "name": "stdout",
     "output_type": "stream",
     "text": [
      "Accuracy: 0.998, T1 error: 0.002, T2 error: 0.000\n",
      "\n",
      "Confidence: Avg. 0.998, Min. 0.003, Max. 1.000, Standard dev. 0.037\n"
     ]
    }
   ],
   "source": [
    "nonspam = evaluate(\"snapshots/lodbrok-2018-08-08T17:10:00.403928.h5py\", \"../SENSITIVE/spambrainz_dataset_nonspam.pickle\")\n",
    "print_stats(nonspam)"
   ]
  }
 ],
 "metadata": {
  "kernelspec": {
   "display_name": "Python 3",
   "language": "python",
   "name": "python3"
  },
  "language_info": {
   "codemirror_mode": {
    "name": "ipython",
    "version": 3
   },
   "file_extension": ".py",
   "mimetype": "text/x-python",
   "name": "python",
   "nbconvert_exporter": "python",
   "pygments_lexer": "ipython3",
   "version": "3.7.4"
  }
 },
 "nbformat": 4,
 "nbformat_minor": 2
}
